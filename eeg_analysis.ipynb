import numpy as np
import matplotlib.pyplot as plt
from scipy import signal
import mne

# Load the data
ad_raw = np.load('AD_EEG_sub_001.npy')
ad_processed = np.load('AD_EEG_sub_001_processed.npy')
control_raw = np.load('Control_EEG_sub_037.npy')
control_processed = np.load('Control_EEG_sub_037_processed.npy')

# Check basic info
print(f"AD data shape: {ad_processed.shape}")
print(f"Control data shape: {control_processed.shape}")

# Plot a sample of the data
plt.figure(figsize=(15, 6))
plt.plot(ad_processed[0, :1000])  # First channel, first 1000 samples
plt.title('Alzheimer\'s EEG Data (First Channel)')
plt.ylabel('Amplitude (µV)')
plt.xlabel('Samples')
plt.show()
