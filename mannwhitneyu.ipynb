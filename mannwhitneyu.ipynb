{
 "cells": [
  {
   "cell_type": "code",
   "execution_count": null,
   "id": "fe53a917-685c-4a5a-8269-94b454c8ecfc",
   "metadata": {},
   "outputs": [],
   "source": [
    "from scipy.stats import mannwhitneyu\n",
    "\n",
    "print(\"\\nTheta Band Channel-wise Mann-Whitney U Tests:\")\n",
    "for i, ch in enumerate(channels_of_interest):\n",
    "    u_stat, p_val = mannwhitneyu(ad_theta_rel_channels[:, i], control_theta_rel_channels[:, i], alternative='two-sided')\n",
    "    print(f\"{ch}: U = {u_stat:.3f}, p = {p_val:.3f}\")\n",
    "\n",
    "print(\"\\nAlpha Band Channel-wise Mann-Whitney U Tests:\")\n",
    "for i, ch in enumerate(channels_of_interest):\n",
    "    u_stat, p_val = mannwhitneyu(ad_alpha_rel_channels[:, i], control_alpha_rel_channels[:, i], alternative='two-sided')\n",
    "    print(f\"{ch}: U = {u_stat:.3f}, p = {p_val:.3f}\")\n",
    "\n",
    "print(\"\\nGamma Band Channel-wise Mann-Whitney U Tests:\")\n",
    "for i, ch in enumerate(channels_of_interest):\n",
    "    u_stat, p_val = mannwhitneyu(ad_gamma_rel_channels[:, i], control_gamma_rel_channels[:, i], alternative='two-sided')\n",
    "    print(f\"{ch}: U = {u_stat:.3f}, p = {p_val:.3f}\")"
   ]
  },
  {
   "cell_type": "markdown",
   "id": "4a69ac67-1052-4a3d-99f9-1752fd28cd17",
   "metadata": {},
   "source": [
    "Theta Band Channel-wise Mann-Whitney U Tests:  \n",
    "F3: U = 71.000, p = 0.121  \n",
    "F4: U = 68.000, p = 0.186  \n",
    "T3: U = 76.000, p = 0.054  \n",
    "T4: U = 77.000, p = 0.045  \n",
    "O1: U = 75.000, p = 0.064  \n",
    "O2: U = 79.000, p = 0.031  \n",
    "\n",
    "Alpha Band Channel-wise Mann-Whitney U Tests:  \n",
    "F3: U = 25.000, p = 0.064  \n",
    "F4: U = 23.000, p = 0.045  \n",
    "T3: U = 23.000, p = 0.045  \n",
    "T4: U = 41.000, p = 0.521  \n",
    "O1: U = 23.000, p = 0.045  \n",
    "O2: U = 30.000, p = 0.140  \n",
    "\n",
    "Gamma Band Channel-wise Mann-Whitney U Tests:  \n",
    "F3: U = 54.000, p = 0.791  \n",
    "F4: U = 52.000, p = 0.910  \n",
    "T3: U = 51.000, p = 0.970  \n",
    "T4: U = 50.000, p = 1.000  \n",
    "O1: U = 45.000, p = 0.734  \n",
    "O2: U = 66.000, p = 0.241"
   ]
  }
 ],
 "metadata": {
  "kernelspec": {
   "display_name": "Python 3 (ipykernel)",
   "language": "python",
   "name": "python3"
  },
  "language_info": {
   "codemirror_mode": {
    "name": "ipython",
    "version": 3
   },
   "file_extension": ".py",
   "mimetype": "text/x-python",
   "name": "python",
   "nbconvert_exporter": "python",
   "pygments_lexer": "ipython3",
   "version": "3.11.9"
  }
 },
 "nbformat": 4,
 "nbformat_minor": 5
}
